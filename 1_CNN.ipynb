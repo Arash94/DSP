{
  "nbformat": 4,
  "nbformat_minor": 0,
  "metadata": {
    "colab": {
      "name": "1-CNN.ipynb",
      "provenance": [],
      "authorship_tag": "ABX9TyPo+rgPdVXwYz52UEeh2fVZ",
      "include_colab_link": true
    },
    "kernelspec": {
      "name": "python3",
      "display_name": "Python 3"
    },
    "accelerator": "GPU"
  },
  "cells": [
    {
      "cell_type": "markdown",
      "metadata": {
        "id": "view-in-github",
        "colab_type": "text"
      },
      "source": [
        "<a href=\"https://colab.research.google.com/github/Arash94/DSP/blob/master/1_CNN.ipynb\" target=\"_parent\"><img src=\"https://colab.research.google.com/assets/colab-badge.svg\" alt=\"Open In Colab\"/></a>"
      ]
    },
    {
      "cell_type": "code",
      "metadata": {
        "id": "QGpIDSY3YzUi",
        "colab_type": "code",
        "colab": {}
      },
      "source": [
        "import tensorflow as tf\n",
        "import numpy as np\n",
        "import matplotlib.pyplot as plt\n",
        "from tensorflow.keras import backend as K\n",
        "import pickle\n",
        "import numpy as np\n",
        "import matplotlib.pyplot as plt\n",
        "\n",
        "import tensorflow as tf\n",
        "from tensorflow import keras\n",
        "tf.keras.backend.set_floatx('float64')\n",
        "\n",
        "import sys\n",
        "from os import listdir\n",
        "from os.path import isfile, join"
      ],
      "execution_count": 0,
      "outputs": []
    },
    {
      "cell_type": "code",
      "metadata": {
        "id": "gcqhbLdIfEnQ",
        "colab_type": "code",
        "colab": {
          "base_uri": "https://localhost:8080/",
          "height": 289
        },
        "outputId": "1b9b2fbe-3d9e-4247-c5d8-40ef5d4ea1e0"
      },
      "source": [
        "gpu_info = !nvidia-smi\n",
        "gpu_info = '\\n'.join(gpu_info)\n",
        "if gpu_info.find('failed') >= 0:\n",
        "  print('Select the Runtime > \"Change runtime type\" menu to enable a GPU accelerator, ')\n",
        "  print('and then re-execute this cell.')\n",
        "else:\n",
        "  print(gpu_info)"
      ],
      "execution_count": 6,
      "outputs": [
        {
          "output_type": "stream",
          "text": [
            "Mon May 25 01:51:02 2020       \n",
            "+-----------------------------------------------------------------------------+\n",
            "| NVIDIA-SMI 440.82       Driver Version: 418.67       CUDA Version: 10.1     |\n",
            "|-------------------------------+----------------------+----------------------+\n",
            "| GPU  Name        Persistence-M| Bus-Id        Disp.A | Volatile Uncorr. ECC |\n",
            "| Fan  Temp  Perf  Pwr:Usage/Cap|         Memory-Usage | GPU-Util  Compute M. |\n",
            "|===============================+======================+======================|\n",
            "|   0  Tesla P100-PCIE...  Off  | 00000000:00:04.0 Off |                    0 |\n",
            "| N/A   69C    P0    55W / 250W |   8773MiB / 16280MiB |      0%      Default |\n",
            "+-------------------------------+----------------------+----------------------+\n",
            "                                                                               \n",
            "+-----------------------------------------------------------------------------+\n",
            "| Processes:                                                       GPU Memory |\n",
            "|  GPU       PID   Type   Process name                             Usage      |\n",
            "|=============================================================================|\n",
            "+-----------------------------------------------------------------------------+\n"
          ],
          "name": "stdout"
        }
      ]
    },
    {
      "cell_type": "code",
      "metadata": {
        "id": "cDPshPrbY3DP",
        "colab_type": "code",
        "colab": {}
      },
      "source": [
        "#Import dataset and normalize to [0,1]\n",
        "mnist = tf.keras.datasets.mnist\n",
        "(data_train, labels_train), (data_test, labels_test) = mnist.load_data()\n",
        "#Normalize\n",
        "data_train = data_train/255.0\n",
        "data_test = data_test/255.0\n",
        "#Reshape\n",
        "data_train = data_train.reshape(data_train.shape[0],28,28,1)\n",
        "data_test = data_test.reshape(data_test.shape[0],28,28,1)\n",
        "\n",
        "#Create labels as one-hot vectors\n",
        "labels_train = tf.keras.utils.to_categorical(labels_train, num_classes=10)\n",
        "labels_test = tf.keras.utils.to_categorical(labels_test, num_classes=10)"
      ],
      "execution_count": 0,
      "outputs": []
    },
    {
      "cell_type": "code",
      "metadata": {
        "id": "gzDn6q_YfsKX",
        "colab_type": "code",
        "colab": {
          "base_uri": "https://localhost:8080/",
          "height": 1000
        },
        "outputId": "21c6c607-acfe-41be-87d3-78bbb257c103"
      },
      "source": [
        "#Create and train model architecture\n",
        "\n",
        "def kir():\n",
        "    model = tf.keras.models.Sequential([\n",
        "      # Reshape into \"channels last\" setup.\n",
        "      tf.keras.layers.Conv2D(filters=256 , kernel_size=(3,3), input_shape=(28,28,1) , activation = 'relu',data_format=\"channels_last\"),\n",
        "      tf.keras.layers.MaxPooling2D(pool_size=(2,2)),\n",
        "      tf.keras.layers.Conv2D(filters=128, kernel_size=(3,3),activation = 'relu', data_format=\"channels_last\"),\n",
        "      tf.keras.layers.MaxPooling2D(pool_size=(2,2)),\n",
        "      tf.keras.layers.Flatten(),\n",
        "      tf.keras.layers.Dense(100, activation='relu'),\n",
        "      tf.keras.layers.Dense(100, activation='relu'),\n",
        "      tf.keras.layers.Dense(10, activation='softmax')\n",
        "    ])\n",
        "    return model\n",
        "\n",
        "\n",
        "#Compile and train the model\n",
        "print\n",
        "kir = kir()\n",
        "print(kir.summary())\n",
        "kir.compile(loss='MSE', optimizer='Adam', metrics=['accuracy'])\n",
        "history_overfit = kir.fit(data_train, labels_train, validation_data=(data_test, labels_test), epochs=70, batch_size=1000, shuffle=True)\n",
        "scores = kir.evaluate(data_test, labels_test)\n",
        "print(\"Accuracy: %.2f%%\" %(scores[1]*100))"
      ],
      "execution_count": 9,
      "outputs": [
        {
          "output_type": "stream",
          "text": [
            "60/60 [==============================] - 12s 202ms/step - loss: 2.6508e-04 - accuracy: 0.9986 - val_loss: 0.0014 - val_accuracy: 0.9910\n",
            "Epoch 29/70\n",
            "60/60 [==============================] - 12s 202ms/step - loss: 2.7226e-04 - accuracy: 0.9985 - val_loss: 0.0014 - val_accuracy: 0.9918\n",
            "Epoch 30/70\n",
            "60/60 [==============================] - 12s 201ms/step - loss: 2.2201e-04 - accuracy: 0.9987 - val_loss: 0.0015 - val_accuracy: 0.9903\n",
            "Epoch 31/70\n",
            "60/60 [==============================] - 12s 202ms/step - loss: 2.8782e-04 - accuracy: 0.9984 - val_loss: 0.0015 - val_accuracy: 0.9909\n",
            "Epoch 32/70\n",
            "60/60 [==============================] - 12s 202ms/step - loss: 2.3294e-04 - accuracy: 0.9988 - val_loss: 0.0014 - val_accuracy: 0.9917\n",
            "Epoch 33/70\n",
            "60/60 [==============================] - 12s 201ms/step - loss: 2.7294e-04 - accuracy: 0.9983 - val_loss: 0.0016 - val_accuracy: 0.9895\n",
            "Epoch 34/70\n",
            "60/60 [==============================] - 12s 202ms/step - loss: 2.5400e-04 - accuracy: 0.9984 - val_loss: 0.0014 - val_accuracy: 0.9913\n",
            "Epoch 35/70\n",
            "60/60 [==============================] - 12s 201ms/step - loss: 2.1047e-04 - accuracy: 0.9988 - val_loss: 0.0013 - val_accuracy: 0.9912\n",
            "Epoch 36/70\n",
            "60/60 [==============================] - 12s 201ms/step - loss: 2.2579e-04 - accuracy: 0.9987 - val_loss: 0.0013 - val_accuracy: 0.9912\n",
            "Epoch 37/70\n",
            "60/60 [==============================] - 12s 201ms/step - loss: 1.9795e-04 - accuracy: 0.9989 - val_loss: 0.0012 - val_accuracy: 0.9921\n",
            "Epoch 38/70\n",
            "60/60 [==============================] - 12s 202ms/step - loss: 1.6211e-04 - accuracy: 0.9991 - val_loss: 0.0015 - val_accuracy: 0.9909\n",
            "Epoch 39/70\n",
            "60/60 [==============================] - 12s 201ms/step - loss: 1.4365e-04 - accuracy: 0.9993 - val_loss: 0.0013 - val_accuracy: 0.9915\n",
            "Epoch 40/70\n",
            "60/60 [==============================] - 12s 202ms/step - loss: 1.2157e-04 - accuracy: 0.9994 - val_loss: 0.0012 - val_accuracy: 0.9926\n",
            "Epoch 41/70\n",
            "60/60 [==============================] - 12s 201ms/step - loss: 1.0957e-04 - accuracy: 0.9994 - val_loss: 0.0012 - val_accuracy: 0.9931\n",
            "Epoch 42/70\n",
            "60/60 [==============================] - 12s 201ms/step - loss: 1.0872e-04 - accuracy: 0.9994 - val_loss: 0.0013 - val_accuracy: 0.9919\n",
            "Epoch 43/70\n",
            "60/60 [==============================] - 12s 201ms/step - loss: 1.0272e-04 - accuracy: 0.9995 - val_loss: 0.0012 - val_accuracy: 0.9922\n",
            "Epoch 44/70\n",
            "60/60 [==============================] - 12s 201ms/step - loss: 2.0446e-04 - accuracy: 0.9988 - val_loss: 0.0014 - val_accuracy: 0.9911\n",
            "Epoch 45/70\n",
            "60/60 [==============================] - 12s 201ms/step - loss: 3.2039e-04 - accuracy: 0.9980 - val_loss: 0.0018 - val_accuracy: 0.9895\n",
            "Epoch 46/70\n",
            "60/60 [==============================] - 12s 202ms/step - loss: 4.1637e-04 - accuracy: 0.9974 - val_loss: 0.0017 - val_accuracy: 0.9901\n",
            "Epoch 47/70\n",
            "60/60 [==============================] - 12s 201ms/step - loss: 4.6623e-04 - accuracy: 0.9972 - val_loss: 0.0015 - val_accuracy: 0.9908\n",
            "Epoch 48/70\n",
            "60/60 [==============================] - 12s 201ms/step - loss: 3.0299e-04 - accuracy: 0.9982 - val_loss: 0.0013 - val_accuracy: 0.9923\n",
            "Epoch 49/70\n",
            "60/60 [==============================] - 12s 201ms/step - loss: 2.0489e-04 - accuracy: 0.9989 - val_loss: 0.0016 - val_accuracy: 0.9897\n",
            "Epoch 50/70\n",
            "60/60 [==============================] - 12s 201ms/step - loss: 3.1611e-04 - accuracy: 0.9980 - val_loss: 0.0014 - val_accuracy: 0.9919\n",
            "Epoch 51/70\n",
            "60/60 [==============================] - 12s 201ms/step - loss: 2.0356e-04 - accuracy: 0.9989 - val_loss: 0.0017 - val_accuracy: 0.9898\n",
            "Epoch 52/70\n",
            "60/60 [==============================] - 12s 202ms/step - loss: 1.2876e-04 - accuracy: 0.9993 - val_loss: 0.0015 - val_accuracy: 0.9914\n",
            "Epoch 53/70\n",
            "60/60 [==============================] - 12s 201ms/step - loss: 1.3028e-04 - accuracy: 0.9993 - val_loss: 0.0014 - val_accuracy: 0.9914\n",
            "Epoch 54/70\n",
            "60/60 [==============================] - 12s 201ms/step - loss: 1.3941e-04 - accuracy: 0.9992 - val_loss: 0.0014 - val_accuracy: 0.9914\n",
            "Epoch 55/70\n",
            "60/60 [==============================] - 12s 201ms/step - loss: 1.1699e-04 - accuracy: 0.9994 - val_loss: 0.0013 - val_accuracy: 0.9920\n",
            "Epoch 56/70\n",
            "60/60 [==============================] - 12s 202ms/step - loss: 1.0176e-04 - accuracy: 0.9994 - val_loss: 0.0014 - val_accuracy: 0.9919\n",
            "Epoch 57/70\n",
            "60/60 [==============================] - 12s 201ms/step - loss: 1.5280e-04 - accuracy: 0.9991 - val_loss: 0.0013 - val_accuracy: 0.9929\n",
            "Epoch 58/70\n",
            "60/60 [==============================] - 12s 201ms/step - loss: 1.9629e-04 - accuracy: 0.9989 - val_loss: 0.0015 - val_accuracy: 0.9908\n",
            "Epoch 59/70\n",
            "60/60 [==============================] - 12s 202ms/step - loss: 1.9342e-04 - accuracy: 0.9988 - val_loss: 0.0020 - val_accuracy: 0.9875\n",
            "Epoch 60/70\n",
            "60/60 [==============================] - 12s 202ms/step - loss: 1.7501e-04 - accuracy: 0.9990 - val_loss: 0.0013 - val_accuracy: 0.9919\n",
            "Epoch 61/70\n",
            "60/60 [==============================] - 12s 201ms/step - loss: 1.4987e-04 - accuracy: 0.9992 - val_loss: 0.0012 - val_accuracy: 0.9926\n",
            "Epoch 62/70\n",
            "60/60 [==============================] - 12s 201ms/step - loss: 1.6465e-04 - accuracy: 0.9990 - val_loss: 0.0014 - val_accuracy: 0.9914\n",
            "Epoch 63/70\n",
            "60/60 [==============================] - 12s 201ms/step - loss: 1.3617e-04 - accuracy: 0.9993 - val_loss: 0.0013 - val_accuracy: 0.9921\n",
            "Epoch 64/70\n",
            "60/60 [==============================] - 12s 201ms/step - loss: 1.1865e-04 - accuracy: 0.9993 - val_loss: 0.0014 - val_accuracy: 0.9914\n",
            "Epoch 65/70\n",
            "60/60 [==============================] - 12s 202ms/step - loss: 1.1802e-04 - accuracy: 0.9994 - val_loss: 0.0012 - val_accuracy: 0.9930\n",
            "Epoch 66/70\n",
            "60/60 [==============================] - 12s 201ms/step - loss: 1.1486e-04 - accuracy: 0.9994 - val_loss: 0.0013 - val_accuracy: 0.9919\n",
            "Epoch 67/70\n",
            "60/60 [==============================] - 12s 201ms/step - loss: 2.3852e-04 - accuracy: 0.9986 - val_loss: 0.0015 - val_accuracy: 0.9906\n",
            "Epoch 68/70\n",
            "60/60 [==============================] - 12s 201ms/step - loss: 1.8631e-04 - accuracy: 0.9990 - val_loss: 0.0017 - val_accuracy: 0.9900\n",
            "Epoch 69/70\n",
            "60/60 [==============================] - 12s 201ms/step - loss: 1.7343e-04 - accuracy: 0.9989 - val_loss: 0.0014 - val_accuracy: 0.9912\n",
            "Epoch 70/70\n",
            "60/60 [==============================] - 12s 201ms/step - loss: 1.5917e-04 - accuracy: 0.9991 - val_loss: 0.0013 - val_accuracy: 0.9924\n",
            "313/313 [==============================] - 2s 6ms/step - loss: 0.0013 - accuracy: 0.9924\n",
            "Accuracy: 99.24%\n"
          ],
          "name": "stdout"
        }
      ]
    },
    {
      "cell_type": "code",
      "metadata": {
        "id": "JQRqbU-NitaU",
        "colab_type": "code",
        "colab": {}
      },
      "source": [
        ""
      ],
      "execution_count": 0,
      "outputs": []
    },
    {
      "cell_type": "code",
      "metadata": {
        "id": "02B8l38gY-gI",
        "colab_type": "code",
        "colab": {
          "base_uri": "https://localhost:8080/",
          "height": 1000
        },
        "outputId": "6c0ff1f8-b2a9-4682-bb0b-31d152c3c1de"
      },
      "source": [
        "#Create and train model architecture\n",
        "def CNN_dropout_hidden():\n",
        "    \n",
        "    model = tf.keras.models.Sequential([\n",
        "      # Reshape into \"channels last\" setup.\n",
        "      tf.keras.layers.Conv2D(filters=256 , kernel_size=(3,3), input_shape=(28,28,1) , activation = 'relu',data_format=\"channels_last\"),\n",
        "      tf.keras.layers.MaxPooling2D(pool_size=(2,2)),\n",
        "      tf.keras.layers.Conv2D(filters=128, kernel_size=(3,3),activation = 'relu', data_format=\"channels_last\"),\n",
        "      tf.keras.layers.MaxPooling2D(pool_size=(2,2)),\n",
        "      tf.keras.layers.Flatten(),\n",
        "      tf.keras.layers.Dense(100, activation='relu'),\n",
        "      tf.keras.layers.Dense(100, activation='relu'),\n",
        "      tf.keras.layers.Dropout(0.3),\n",
        "      tf.keras.layers.Dense(10, activation='softmax')\n",
        "    ])\n",
        "    return model\n",
        "\n",
        "#Compile and train the model\n",
        "CNN_dropout_hidden2 = CNN_dropout_hidden()\n",
        "CNN_dropout_hidden2.compile(loss='MSE', optimizer='Adam', metrics=['accuracy'])\n",
        "history_dropout_hidden2 = CNN_dropout_hidden2.fit(data_train, labels_train, validation_data=(data_test, labels_test), epochs=50, batch_size=1000, shuffle=True)\n",
        "scores_dropout_hidden2 = CNN_dropout_hidden2.evaluate(data_test, labels_test)\n",
        "print(\"Accuracy: %.2f%%\" %(scores_dropout_hidden2[1]*100))"
      ],
      "execution_count": 5,
      "outputs": [
        {
          "output_type": "stream",
          "text": [
            "Epoch 1/50\n",
            "60/60 [==============================] - 12s 205ms/step - loss: 0.0291 - accuracy: 0.7868 - val_loss: 0.0060 - val_accuracy: 0.9612\n",
            "Epoch 2/50\n",
            "60/60 [==============================] - 12s 201ms/step - loss: 0.0061 - accuracy: 0.9607 - val_loss: 0.0032 - val_accuracy: 0.9792\n",
            "Epoch 3/50\n",
            "60/60 [==============================] - 12s 201ms/step - loss: 0.0041 - accuracy: 0.9740 - val_loss: 0.0025 - val_accuracy: 0.9837\n",
            "Epoch 4/50\n",
            "60/60 [==============================] - 12s 201ms/step - loss: 0.0031 - accuracy: 0.9803 - val_loss: 0.0022 - val_accuracy: 0.9859\n",
            "Epoch 5/50\n",
            "60/60 [==============================] - 12s 201ms/step - loss: 0.0027 - accuracy: 0.9831 - val_loss: 0.0020 - val_accuracy: 0.9876\n",
            "Epoch 6/50\n",
            "60/60 [==============================] - 12s 202ms/step - loss: 0.0021 - accuracy: 0.9871 - val_loss: 0.0018 - val_accuracy: 0.9881\n",
            "Epoch 7/50\n",
            "60/60 [==============================] - 12s 202ms/step - loss: 0.0019 - accuracy: 0.9880 - val_loss: 0.0017 - val_accuracy: 0.9889\n",
            "Epoch 8/50\n",
            "60/60 [==============================] - 12s 202ms/step - loss: 0.0017 - accuracy: 0.9893 - val_loss: 0.0015 - val_accuracy: 0.9902\n",
            "Epoch 9/50\n",
            "60/60 [==============================] - 12s 202ms/step - loss: 0.0015 - accuracy: 0.9906 - val_loss: 0.0014 - val_accuracy: 0.9910\n",
            "Epoch 10/50\n",
            "60/60 [==============================] - 12s 203ms/step - loss: 0.0013 - accuracy: 0.9921 - val_loss: 0.0014 - val_accuracy: 0.9910\n",
            "Epoch 11/50\n",
            "60/60 [==============================] - 12s 202ms/step - loss: 0.0012 - accuracy: 0.9923 - val_loss: 0.0015 - val_accuracy: 0.9901\n",
            "Epoch 12/50\n",
            "60/60 [==============================] - 12s 202ms/step - loss: 0.0010 - accuracy: 0.9938 - val_loss: 0.0013 - val_accuracy: 0.9912\n",
            "Epoch 13/50\n",
            "60/60 [==============================] - 12s 202ms/step - loss: 9.7588e-04 - accuracy: 0.9941 - val_loss: 0.0013 - val_accuracy: 0.9914\n",
            "Epoch 14/50\n",
            "60/60 [==============================] - 12s 203ms/step - loss: 9.4381e-04 - accuracy: 0.9940 - val_loss: 0.0014 - val_accuracy: 0.9910\n",
            "Epoch 15/50\n",
            "60/60 [==============================] - 12s 202ms/step - loss: 8.7936e-04 - accuracy: 0.9947 - val_loss: 0.0012 - val_accuracy: 0.9916\n",
            "Epoch 16/50\n",
            "60/60 [==============================] - 12s 203ms/step - loss: 7.5055e-04 - accuracy: 0.9955 - val_loss: 0.0013 - val_accuracy: 0.9918\n",
            "Epoch 17/50\n",
            "60/60 [==============================] - 12s 201ms/step - loss: 7.3380e-04 - accuracy: 0.9955 - val_loss: 0.0013 - val_accuracy: 0.9920\n",
            "Epoch 18/50\n",
            "60/60 [==============================] - 12s 202ms/step - loss: 7.7974e-04 - accuracy: 0.9952 - val_loss: 0.0013 - val_accuracy: 0.9911\n",
            "Epoch 19/50\n",
            "60/60 [==============================] - 12s 202ms/step - loss: 6.2239e-04 - accuracy: 0.9962 - val_loss: 0.0013 - val_accuracy: 0.9916\n",
            "Epoch 20/50\n",
            "60/60 [==============================] - 12s 202ms/step - loss: 6.1396e-04 - accuracy: 0.9963 - val_loss: 0.0015 - val_accuracy: 0.9899\n",
            "Epoch 21/50\n",
            "60/60 [==============================] - 12s 202ms/step - loss: 4.6399e-04 - accuracy: 0.9973 - val_loss: 0.0013 - val_accuracy: 0.9917\n",
            "Epoch 22/50\n",
            "60/60 [==============================] - 12s 203ms/step - loss: 4.9037e-04 - accuracy: 0.9971 - val_loss: 0.0012 - val_accuracy: 0.9921\n",
            "Epoch 23/50\n",
            "60/60 [==============================] - 12s 202ms/step - loss: 5.2392e-04 - accuracy: 0.9968 - val_loss: 0.0015 - val_accuracy: 0.9906\n",
            "Epoch 24/50\n",
            "60/60 [==============================] - 12s 201ms/step - loss: 4.6527e-04 - accuracy: 0.9973 - val_loss: 0.0012 - val_accuracy: 0.9923\n",
            "Epoch 25/50\n",
            "60/60 [==============================] - 12s 201ms/step - loss: 3.9557e-04 - accuracy: 0.9978 - val_loss: 0.0013 - val_accuracy: 0.9915\n",
            "Epoch 26/50\n",
            "60/60 [==============================] - 12s 202ms/step - loss: 4.2376e-04 - accuracy: 0.9976 - val_loss: 0.0012 - val_accuracy: 0.9925\n",
            "Epoch 27/50\n",
            "60/60 [==============================] - 12s 201ms/step - loss: 3.6133e-04 - accuracy: 0.9978 - val_loss: 0.0013 - val_accuracy: 0.9920\n",
            "Epoch 28/50\n",
            "60/60 [==============================] - 12s 202ms/step - loss: 3.1940e-04 - accuracy: 0.9982 - val_loss: 0.0013 - val_accuracy: 0.9915\n",
            "Epoch 29/50\n",
            "60/60 [==============================] - 12s 202ms/step - loss: 3.4279e-04 - accuracy: 0.9980 - val_loss: 0.0013 - val_accuracy: 0.9920\n",
            "Epoch 30/50\n",
            "60/60 [==============================] - 12s 201ms/step - loss: 3.6119e-04 - accuracy: 0.9979 - val_loss: 0.0014 - val_accuracy: 0.9909\n",
            "Epoch 31/50\n",
            "60/60 [==============================] - 12s 202ms/step - loss: 3.5177e-04 - accuracy: 0.9980 - val_loss: 0.0013 - val_accuracy: 0.9921\n",
            "Epoch 32/50\n",
            "60/60 [==============================] - 12s 202ms/step - loss: 2.9583e-04 - accuracy: 0.9983 - val_loss: 0.0012 - val_accuracy: 0.9924\n",
            "Epoch 33/50\n",
            "60/60 [==============================] - 12s 202ms/step - loss: 2.4568e-04 - accuracy: 0.9987 - val_loss: 0.0013 - val_accuracy: 0.9924\n",
            "Epoch 34/50\n",
            "60/60 [==============================] - 12s 202ms/step - loss: 2.7810e-04 - accuracy: 0.9983 - val_loss: 0.0012 - val_accuracy: 0.9923\n",
            "Epoch 35/50\n",
            "60/60 [==============================] - 12s 203ms/step - loss: 2.3332e-04 - accuracy: 0.9987 - val_loss: 0.0014 - val_accuracy: 0.9911\n",
            "Epoch 36/50\n",
            "60/60 [==============================] - 12s 202ms/step - loss: 2.3968e-04 - accuracy: 0.9987 - val_loss: 0.0014 - val_accuracy: 0.9911\n",
            "Epoch 37/50\n",
            "60/60 [==============================] - 12s 202ms/step - loss: 2.3524e-04 - accuracy: 0.9987 - val_loss: 0.0014 - val_accuracy: 0.9916\n",
            "Epoch 38/50\n",
            "60/60 [==============================] - 12s 203ms/step - loss: 2.7731e-04 - accuracy: 0.9984 - val_loss: 0.0014 - val_accuracy: 0.9915\n",
            "Epoch 39/50\n",
            "60/60 [==============================] - 12s 203ms/step - loss: 2.5844e-04 - accuracy: 0.9986 - val_loss: 0.0013 - val_accuracy: 0.9921\n",
            "Epoch 40/50\n",
            "60/60 [==============================] - 12s 202ms/step - loss: 2.5893e-04 - accuracy: 0.9984 - val_loss: 0.0015 - val_accuracy: 0.9907\n",
            "Epoch 41/50\n",
            "60/60 [==============================] - 12s 203ms/step - loss: 2.3210e-04 - accuracy: 0.9987 - val_loss: 0.0014 - val_accuracy: 0.9922\n",
            "Epoch 42/50\n",
            "60/60 [==============================] - 12s 202ms/step - loss: 2.5891e-04 - accuracy: 0.9984 - val_loss: 0.0016 - val_accuracy: 0.9903\n",
            "Epoch 43/50\n",
            "60/60 [==============================] - 12s 202ms/step - loss: 3.1008e-04 - accuracy: 0.9980 - val_loss: 0.0014 - val_accuracy: 0.9918\n",
            "Epoch 44/50\n",
            "60/60 [==============================] - 12s 203ms/step - loss: 2.3279e-04 - accuracy: 0.9987 - val_loss: 0.0012 - val_accuracy: 0.9930\n",
            "Epoch 45/50\n",
            "60/60 [==============================] - 12s 202ms/step - loss: 2.0766e-04 - accuracy: 0.9987 - val_loss: 0.0014 - val_accuracy: 0.9908\n",
            "Epoch 46/50\n",
            "60/60 [==============================] - 12s 202ms/step - loss: 2.3470e-04 - accuracy: 0.9986 - val_loss: 0.0013 - val_accuracy: 0.9925\n",
            "Epoch 47/50\n",
            "60/60 [==============================] - 12s 202ms/step - loss: 2.3461e-04 - accuracy: 0.9987 - val_loss: 0.0013 - val_accuracy: 0.9921\n",
            "Epoch 48/50\n",
            "60/60 [==============================] - 12s 202ms/step - loss: 1.9555e-04 - accuracy: 0.9989 - val_loss: 0.0013 - val_accuracy: 0.9923\n",
            "Epoch 49/50\n",
            "60/60 [==============================] - 12s 202ms/step - loss: 2.3087e-04 - accuracy: 0.9987 - val_loss: 0.0013 - val_accuracy: 0.9916\n",
            "Epoch 50/50\n",
            "60/60 [==============================] - 12s 202ms/step - loss: 2.2760e-04 - accuracy: 0.9987 - val_loss: 0.0014 - val_accuracy: 0.9913\n",
            "313/313 [==============================] - 2s 6ms/step - loss: 0.0014 - accuracy: 0.9913\n",
            "Accuracy: 99.13%\n"
          ],
          "name": "stdout"
        }
      ]
    },
    {
      "cell_type": "code",
      "metadata": {
        "id": "Jm4CEOiTi_35",
        "colab_type": "code",
        "colab": {}
      },
      "source": [
        ""
      ],
      "execution_count": 0,
      "outputs": []
    },
    {
      "cell_type": "code",
      "metadata": {
        "id": "5RfJUbMdhxJ9",
        "colab_type": "code",
        "colab": {}
      },
      "source": [
        ""
      ],
      "execution_count": 0,
      "outputs": []
    }
  ]
}